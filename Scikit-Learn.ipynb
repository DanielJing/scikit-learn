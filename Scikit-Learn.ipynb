{
 "cells": [
  {
   "cell_type": "code",
   "execution_count": 1,
   "id": "d6e72bc8-1f9d-49ed-92c5-591323b08ef4",
   "metadata": {},
   "outputs": [],
   "source": [
    "from sklearn.datasets import load_iris\n",
    "data = load_iris()\n",
    "x = data.data\n",
    "y = data.target"
   ]
  },
  {
   "cell_type": "code",
   "execution_count": 2,
   "id": "7271acbb-961a-4a71-a491-5ff50f05adc4",
   "metadata": {},
   "outputs": [],
   "source": [
    "from sklearn.model_selection import train_test_split\n",
    "train_x,test_x,train_y,test_y = train_test_split(x,y,test_size=0.1,random_state=0)"
   ]
  },
  {
   "cell_type": "code",
   "execution_count": 3,
   "id": "8ab63739-dc56-4b08-99dc-05a18f508957",
   "metadata": {},
   "outputs": [
    {
     "name": "stdout",
     "output_type": "stream",
     "text": [
      "accuracy in training set: 0.9630\n",
      "accuracy in testing set: 1.0000\n"
     ]
    }
   ],
   "source": [
    "#SVM\n",
    "\n",
    "from sklearn.svm import SVC\n",
    "from sklearn.metrics import accuracy_score\n",
    "\n",
    "svm_model = SVC()\n",
    "\n",
    "svm_model.fit(train_x,train_y)\n",
    "\n",
    "pred1 = svm_model.predict(train_x)\n",
    "accuracy1 = accuracy_score(train_y,pred1)\n",
    "print('accuracy in training set: %.4f'%accuracy1)\n",
    "\n",
    "pred2 = svm_model.predict(test_x)\n",
    "accuracy2 = accuracy_score(test_y,pred2)\n",
    "print('accuracy in testing set: %.4f'%accuracy2)"
   ]
  },
  {
   "cell_type": "code",
   "execution_count": 4,
   "id": "fe77eaa7-4826-4c06-ab9c-8eb47cb05bd1",
   "metadata": {},
   "outputs": [
    {
     "name": "stdout",
     "output_type": "stream",
     "text": [
      "accuracy in training set: 0.9704\n",
      "accuracy in testing set: 1.0000\n"
     ]
    }
   ],
   "source": [
    "# LogisticRegression\n",
    "\n",
    "from sklearn.linear_model import LogisticRegression\n",
    "from sklearn.metrics import accuracy_score \n",
    "\n",
    "lr_model = LogisticRegression()\n",
    "\n",
    "lr_model.fit(train_x,train_y)\n",
    "\n",
    "pred1 = lr_model.predict(train_x)\n",
    "accuracy1 = accuracy_score(train_y,pred1)\n",
    "print('accuracy in training set: %.4f'%accuracy1)\n",
    "\n",
    "pred2 = lr_model.predict(test_x)\n",
    "accuracy2 = accuracy_score(test_y,pred2)\n",
    "print('accuracy in testing set: %.4f'%accuracy2)"
   ]
  },
  {
   "cell_type": "code",
   "execution_count": null,
   "id": "0fd5f2ac-d8f9-4819-809b-9814f1d183ff",
   "metadata": {},
   "outputs": [],
   "source": []
  }
 ],
 "metadata": {
  "kernelspec": {
   "display_name": "Python 3 (ipykernel)",
   "language": "python",
   "name": "python3"
  },
  "language_info": {
   "codemirror_mode": {
    "name": "ipython",
    "version": 3
   },
   "file_extension": ".py",
   "mimetype": "text/x-python",
   "name": "python",
   "nbconvert_exporter": "python",
   "pygments_lexer": "ipython3",
   "version": "3.9.17"
  }
 },
 "nbformat": 4,
 "nbformat_minor": 5
}
